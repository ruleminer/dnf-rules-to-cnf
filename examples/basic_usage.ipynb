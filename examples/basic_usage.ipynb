{
 "cells": [
  {
   "cell_type": "code",
   "execution_count": 8,
   "metadata": {},
   "outputs": [],
   "source": [
    "from decision_rules.measures import c2\n",
    "\n",
    "from rules_to_cnf.generate_cnf_ruleset import (\n",
    "    prepare_dataset,\n",
    "    create_rulekit_ruleset,\n",
    "    convert_rulekit_to_decision_rules,\n",
    "    load_ruleset,\n",
    ")\n",
    "from rules_to_cnf.utils.ruleset_quality_report import create_full_report\n",
    "from rules_to_cnf.converters.sympy_cnf_converter import SympyCNFConverter\n",
    "from rules_to_cnf.converters.nnf_cnf_converter import NnfCNFConverter"
   ]
  },
  {
   "cell_type": "markdown",
   "metadata": {},
   "source": [
    "# Load dataset"
   ]
  },
  {
   "cell_type": "code",
   "execution_count": 9,
   "metadata": {},
   "outputs": [],
   "source": [
    "X, y = prepare_dataset(\"iris.csv\")"
   ]
  },
  {
   "cell_type": "markdown",
   "metadata": {},
   "source": [
    "# Generate ruleset with RuleKit"
   ]
  },
  {
   "cell_type": "code",
   "execution_count": 10,
   "metadata": {},
   "outputs": [],
   "source": [
    "rulekit_model = create_rulekit_ruleset(X, y)"
   ]
  },
  {
   "cell_type": "code",
   "execution_count": 11,
   "metadata": {},
   "outputs": [
    {
     "name": "stdout",
     "output_type": "stream",
     "text": [
      "IF petallength = (-inf, 2.45) THEN class = {Iris-setosa}\n",
      "IF sepalwidth = (-inf, 2.95) AND petallength = (-inf, 4.75) AND sepallength = <4.95, inf) THEN class = {Iris-versicolor}\n",
      "IF petallength = <2.45, 4.75) AND petalwidth = (-inf, 1.65) THEN class = {Iris-versicolor}\n",
      "IF sepalwidth = (-inf, 2.95) AND petalwidth = (-inf, 1.65) AND petallength = (-inf, 4.95) AND sepallength = <4.70, inf) THEN class = {Iris-versicolor}\n",
      "IF petallength = <2.45, 5.35) AND petalwidth = (-inf, 1.65) THEN class = {Iris-versicolor}\n",
      "IF petallength = <2.45, 5.05) AND petalwidth = (-inf, 1.85) AND sepallength = <4.95, inf) THEN class = {Iris-versicolor}\n",
      "IF petalwidth = <1.75, inf) AND petallength = <4.85, inf) THEN class = {Iris-virginica}\n",
      "IF petalwidth = <1.75, inf) THEN class = {Iris-virginica}\n",
      "IF petallength = <4.95, inf) THEN class = {Iris-virginica}\n",
      "IF petalwidth = <1.65, inf) THEN class = {Iris-virginica}\n"
     ]
    }
   ],
   "source": [
    "for rule in rulekit_model.model.rules:\n",
    "    print(rule)"
   ]
  },
  {
   "cell_type": "code",
   "execution_count": 12,
   "metadata": {},
   "outputs": [],
   "source": [
    "decision_rules_ruleset = convert_rulekit_to_decision_rules(rulekit_model, X, y)"
   ]
  },
  {
   "cell_type": "code",
   "execution_count": 13,
   "metadata": {},
   "outputs": [
    {
     "name": "stdout",
     "output_type": "stream",
     "text": [
      "IF petallength < 2.45 THEN class = Iris-setosa (p=50, n=0, P=50, N=100)\n",
      "IF sepalwidth < 2.95 AND petallength < 4.75 AND sepallength >= 4.95 THEN class = Iris-versicolor (p=30, n=0, P=50, N=100)\n",
      "IF petallength >= 2.45 AND petallength < 4.75 AND petalwidth < 1.65 THEN class = Iris-versicolor (p=44, n=0, P=50, N=100)\n",
      "IF sepalwidth < 2.95 AND petalwidth < 1.65 AND petallength < 4.95 AND sepallength >= 4.70 THEN class = Iris-versicolor (p=33, n=0, P=50, N=100)\n",
      "IF petallength >= 2.45 AND petalwidth < 1.65 AND petallength < 5.35 THEN class = Iris-versicolor (p=48, n=2, P=50, N=100)\n",
      "IF petallength >= 2.45 AND petallength < 5.05 AND petalwidth < 1.85 AND sepallength >= 4.95 THEN class = Iris-versicolor (p=48, n=5, P=50, N=100)\n",
      "IF petalwidth >= 1.75 AND petallength >= 4.85 THEN class = Iris-virginica (p=43, n=0, P=50, N=100)\n",
      "IF petalwidth >= 1.75 THEN class = Iris-virginica (p=45, n=1, P=50, N=100)\n",
      "IF petallength >= 4.95 THEN class = Iris-virginica (p=44, n=2, P=50, N=100)\n",
      "IF petalwidth >= 1.65 THEN class = Iris-virginica (p=46, n=2, P=50, N=100)\n"
     ]
    }
   ],
   "source": [
    "for rule in decision_rules_ruleset.rules:\n",
    "    print(rule)"
   ]
  },
  {
   "cell_type": "markdown",
   "metadata": {},
   "source": [
    "# Convert ruleset to CNF"
   ]
  },
  {
   "cell_type": "markdown",
   "metadata": {},
   "source": [
    "## Using SymPy"
   ]
  },
  {
   "cell_type": "code",
   "execution_count": 14,
   "metadata": {},
   "outputs": [],
   "source": [
    "converter = SympyCNFConverter()"
   ]
  },
  {
   "cell_type": "code",
   "execution_count": 15,
   "metadata": {},
   "outputs": [
    {
     "name": "stdout",
     "output_type": "stream",
     "text": [
      "Converting rules for conclusion class = Iris-setosa to sympy...\n",
      "Converting DNF to CNF...\n",
      "Converting CNF to decision rules...\n",
      "Conversion finished.\n",
      "\n",
      "Converting rules for conclusion class = Iris-versicolor to sympy...\n",
      "Converting DNF to CNF...\n",
      "Converting CNF to decision rules...\n",
      "Conversion finished.\n",
      "\n",
      "Converting rules for conclusion class = Iris-virginica to sympy...\n",
      "Converting DNF to CNF...\n",
      "Converting CNF to decision rules...\n",
      "Conversion finished.\n",
      "\n",
      "Creating ruleset out of 3 rules...\n"
     ]
    }
   ],
   "source": [
    "sympy_cnf = converter.convert_to_cnf(decision_rules_ruleset)"
   ]
  },
  {
   "cell_type": "markdown",
   "metadata": {},
   "source": [
    "## Using NNF"
   ]
  },
  {
   "cell_type": "code",
   "execution_count": 16,
   "metadata": {},
   "outputs": [],
   "source": [
    "converter = NnfCNFConverter()"
   ]
  },
  {
   "cell_type": "code",
   "execution_count": 17,
   "metadata": {},
   "outputs": [
    {
     "name": "stdout",
     "output_type": "stream",
     "text": [
      "Converting rules for conclusion class = Iris-setosa to nnf objects...\n",
      "Converting DNF to CNF...\n",
      "Converting CNF to decision rules...\n",
      "Conversion finished.\n",
      "\n",
      "Converting rules for conclusion class = Iris-versicolor to nnf objects...\n",
      "Converting DNF to CNF...\n",
      "Converting CNF to decision rules...\n",
      "Conversion finished.\n",
      "\n",
      "Converting rules for conclusion class = Iris-virginica to nnf objects...\n",
      "Converting DNF to CNF...\n",
      "Converting CNF to decision rules...\n",
      "Conversion finished.\n",
      "\n",
      "Creating ruleset out of 3 rules...\n"
     ]
    }
   ],
   "source": [
    "nnf_cnf = converter.convert_to_cnf(decision_rules_ruleset)"
   ]
  },
  {
   "cell_type": "markdown",
   "metadata": {},
   "source": [
    "# Comparing the original ruleset and the CNF ruleset"
   ]
  },
  {
   "cell_type": "markdown",
   "metadata": {},
   "source": [
    "After conversion you can generate a text report to compare between the original ruleset and the CNF ruleset."
   ]
  },
  {
   "cell_type": "code",
   "execution_count": 18,
   "metadata": {},
   "outputs": [],
   "source": [
    "# perform some necessary steps after creating the CNF ruleset\n",
    "sympy_cnf.update(X, y, c2)\n",
    "sympy_cnf.set_prediction_strategy(\"vote\")\n",
    "\n",
    "# define metrics to be calculated\n",
    "METRICS = [\"precision\", \"coverage\", \"C2\"]\n",
    "\n",
    "create_full_report(\n",
    "    dnf_ruleset=decision_rules_ruleset,\n",
    "    cnf_ruleset=sympy_cnf,\n",
    "    X=X,\n",
    "    y=y,\n",
    "    path=\"./iris_report.txt\",\n",
    "    preambule=\"\"\n",
    ")"
   ]
  }
 ],
 "metadata": {
  "kernelspec": {
   "display_name": "decision-12",
   "language": "python",
   "name": "python3"
  },
  "language_info": {
   "codemirror_mode": {
    "name": "ipython",
    "version": 3
   },
   "file_extension": ".py",
   "mimetype": "text/x-python",
   "name": "python",
   "nbconvert_exporter": "python",
   "pygments_lexer": "ipython3",
   "version": "3.12.5"
  }
 },
 "nbformat": 4,
 "nbformat_minor": 2
}
